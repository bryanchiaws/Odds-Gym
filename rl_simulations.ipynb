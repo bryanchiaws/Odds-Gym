{
 "cells": [
  {
   "cell_type": "code",
   "execution_count": 10,
   "metadata": {},
   "outputs": [],
   "source": [
    "import numpy as np\n",
    "import pandas as pd\n",
    "import matplotlib.pyplot as plt\n",
    "\n",
    "np.random.seed(333)\n",
    "\n",
    "df = pd.read_csv('./data/merged_probs_odds.csv') # labels: \"home wins\" -> 1; \"draw\": 0; \"away\" -> -1\n",
    "df.tail()\n",
    "df = df.sort_values(\"date_x\", ascending = True)"
   ]
  },
  {
   "cell_type": "code",
   "execution_count": 11,
   "metadata": {},
   "outputs": [],
   "source": [
    "from tqdm import tqdm\n",
    "\n",
    "def make_trajectories(df, trajectory_len=30, keep_cols=['spi1', 'spi2', 'prob_home', 'prob_tie', 'prob_away', 'odds_home', 'odds_draw', 'odds_away',\n",
    "                                                        'proj_home_score', 'proj_away_score', 'home_goals', 'away_goals', 'label']):\n",
    "    num_traj = int(df.shape[0] // trajectory_len)\n",
    "    trajectories = []\n",
    "    for i in tqdm(range(num_traj)):\n",
    "        df = df.sample(frac=1.0) # shuffle\n",
    "        traj = df.iloc[:trajectory_len] # keep first {traj_len} random games\n",
    "        traj = traj.sort_values(by='date_x', ascending=True) # make game sample chronologic\n",
    "        trajectories.append(traj)\n",
    "    return trajectories"
   ]
  },
  {
   "cell_type": "code",
   "execution_count": 12,
   "metadata": {},
   "outputs": [],
   "source": [
    "rename_dict = {\"odds_home\": \"home\", \"odds_draw\": \"draw\", \"odds_away\": \"away\", \"label\": \"result\"}\n",
    "\n",
    "odds_df = df[[\"date_x\", \"home_team\", \"away_team\", \"odds_home\", \"odds_draw\", \"odds_away\", \"label\"]].rename(rename_dict, axis = 1)\n",
    "odds_df['result'] = odds_df['result'].map({1: 0, -1: 2, 0: 1})"
   ]
  },
  {
   "cell_type": "code",
   "execution_count": 13,
   "metadata": {},
   "outputs": [
    {
     "name": "stderr",
     "output_type": "stream",
     "text": [
      "100%|██████████| 358/358 [00:00<00:00, 671.32it/s]\n"
     ]
    }
   ],
   "source": [
    "traj_list = make_trajectories(odds_df, keep_cols = [\"home_team\", \"away_team\", \"odds_home\", \"odds_draw\", \"odds_away\", \"label\"])"
   ]
  },
  {
   "cell_type": "code",
   "execution_count": 14,
   "metadata": {},
   "outputs": [
    {
     "data": {
      "text/html": [
       "<div>\n",
       "<style scoped>\n",
       "    .dataframe tbody tr th:only-of-type {\n",
       "        vertical-align: middle;\n",
       "    }\n",
       "\n",
       "    .dataframe tbody tr th {\n",
       "        vertical-align: top;\n",
       "    }\n",
       "\n",
       "    .dataframe thead th {\n",
       "        text-align: right;\n",
       "    }\n",
       "</style>\n",
       "<table border=\"1\" class=\"dataframe\">\n",
       "  <thead>\n",
       "    <tr style=\"text-align: right;\">\n",
       "      <th></th>\n",
       "      <th>date_x</th>\n",
       "      <th>home_team</th>\n",
       "      <th>away_team</th>\n",
       "      <th>home</th>\n",
       "      <th>draw</th>\n",
       "      <th>away</th>\n",
       "      <th>result</th>\n",
       "    </tr>\n",
       "  </thead>\n",
       "  <tbody>\n",
       "    <tr>\n",
       "      <th>544</th>\n",
       "      <td>2017-08-09</td>\n",
       "      <td>Ponte Preta</td>\n",
       "      <td>Fluminense</td>\n",
       "      <td>2.17</td>\n",
       "      <td>3.27</td>\n",
       "      <td>3.29</td>\n",
       "      <td>1</td>\n",
       "    </tr>\n",
       "    <tr>\n",
       "      <th>812</th>\n",
       "      <td>2017-09-16</td>\n",
       "      <td>Guingamp</td>\n",
       "      <td>Lille</td>\n",
       "      <td>2.15</td>\n",
       "      <td>3.30</td>\n",
       "      <td>3.50</td>\n",
       "      <td>0</td>\n",
       "    </tr>\n",
       "    <tr>\n",
       "      <th>970</th>\n",
       "      <td>2017-09-30</td>\n",
       "      <td>Udinese</td>\n",
       "      <td>Sampdoria</td>\n",
       "      <td>2.70</td>\n",
       "      <td>3.25</td>\n",
       "      <td>2.60</td>\n",
       "      <td>0</td>\n",
       "    </tr>\n",
       "    <tr>\n",
       "      <th>2073</th>\n",
       "      <td>2018-08-15</td>\n",
       "      <td>Vissel Kobe</td>\n",
       "      <td>Sanfrecce Hiroshima</td>\n",
       "      <td>2.42</td>\n",
       "      <td>3.40</td>\n",
       "      <td>2.78</td>\n",
       "      <td>1</td>\n",
       "    </tr>\n",
       "    <tr>\n",
       "      <th>2271</th>\n",
       "      <td>2018-09-02</td>\n",
       "      <td>Albacete</td>\n",
       "      <td>Cordoba</td>\n",
       "      <td>1.95</td>\n",
       "      <td>3.10</td>\n",
       "      <td>4.33</td>\n",
       "      <td>0</td>\n",
       "    </tr>\n",
       "    <tr>\n",
       "      <th>...</th>\n",
       "      <td>...</td>\n",
       "      <td>...</td>\n",
       "      <td>...</td>\n",
       "      <td>...</td>\n",
       "      <td>...</td>\n",
       "      <td>...</td>\n",
       "      <td>...</td>\n",
       "    </tr>\n",
       "    <tr>\n",
       "      <th>8884</th>\n",
       "      <td>2022-06-24</td>\n",
       "      <td>Internacional</td>\n",
       "      <td>Coritiba</td>\n",
       "      <td>1.76</td>\n",
       "      <td>3.57</td>\n",
       "      <td>4.70</td>\n",
       "      <td>0</td>\n",
       "    </tr>\n",
       "    <tr>\n",
       "      <th>9052</th>\n",
       "      <td>2022-08-03</td>\n",
       "      <td>Portland Timbers</td>\n",
       "      <td>Nashville SC</td>\n",
       "      <td>2.22</td>\n",
       "      <td>3.56</td>\n",
       "      <td>3.03</td>\n",
       "      <td>1</td>\n",
       "    </tr>\n",
       "    <tr>\n",
       "      <th>9725</th>\n",
       "      <td>2022-10-01</td>\n",
       "      <td>Ajax</td>\n",
       "      <td>Go Ahead Eagles</td>\n",
       "      <td>1.08</td>\n",
       "      <td>11.29</td>\n",
       "      <td>25.19</td>\n",
       "      <td>1</td>\n",
       "    </tr>\n",
       "    <tr>\n",
       "      <th>9971</th>\n",
       "      <td>2022-10-16</td>\n",
       "      <td>Real Madrid</td>\n",
       "      <td>Barcelona</td>\n",
       "      <td>2.28</td>\n",
       "      <td>3.64</td>\n",
       "      <td>3.05</td>\n",
       "      <td>0</td>\n",
       "    </tr>\n",
       "    <tr>\n",
       "      <th>10632</th>\n",
       "      <td>2023-04-13</td>\n",
       "      <td>Arsenal Sarandi</td>\n",
       "      <td>Godoy Cruz</td>\n",
       "      <td>2.79</td>\n",
       "      <td>2.85</td>\n",
       "      <td>2.82</td>\n",
       "      <td>2</td>\n",
       "    </tr>\n",
       "  </tbody>\n",
       "</table>\n",
       "<p>9000 rows × 7 columns</p>\n",
       "</div>"
      ],
      "text/plain": [
       "           date_x         home_team            away_team  home   draw   away  \\\n",
       "544    2017-08-09       Ponte Preta           Fluminense  2.17   3.27   3.29   \n",
       "812    2017-09-16          Guingamp                Lille  2.15   3.30   3.50   \n",
       "970    2017-09-30           Udinese            Sampdoria  2.70   3.25   2.60   \n",
       "2073   2018-08-15       Vissel Kobe  Sanfrecce Hiroshima  2.42   3.40   2.78   \n",
       "2271   2018-09-02          Albacete              Cordoba  1.95   3.10   4.33   \n",
       "...           ...               ...                  ...   ...    ...    ...   \n",
       "8884   2022-06-24     Internacional             Coritiba  1.76   3.57   4.70   \n",
       "9052   2022-08-03  Portland Timbers         Nashville SC  2.22   3.56   3.03   \n",
       "9725   2022-10-01              Ajax      Go Ahead Eagles  1.08  11.29  25.19   \n",
       "9971   2022-10-16       Real Madrid            Barcelona  2.28   3.64   3.05   \n",
       "10632  2023-04-13   Arsenal Sarandi           Godoy Cruz  2.79   2.85   2.82   \n",
       "\n",
       "       result  \n",
       "544         1  \n",
       "812         0  \n",
       "970         0  \n",
       "2073        1  \n",
       "2271        0  \n",
       "...       ...  \n",
       "8884        0  \n",
       "9052        1  \n",
       "9725        1  \n",
       "9971        0  \n",
       "10632       2  \n",
       "\n",
       "[9000 rows x 7 columns]"
      ]
     },
     "execution_count": 14,
     "metadata": {},
     "output_type": "execute_result"
    }
   ],
   "source": [
    "train_list = traj_list[:300]\n",
    "test_list = traj_list[300:]\n",
    "\n",
    "train_df = pd.concat(train_list)\n",
    "test_df = pd.concat(test_list)\n",
    "\n",
    "train_df"
   ]
  },
  {
   "cell_type": "code",
   "execution_count": 15,
   "metadata": {},
   "outputs": [],
   "source": [
    "from oddsgym.envs.soccer import ThreeWaySoccerOddsEnv\n",
    "from oddsgym.envs.base_percentage import BasePercentageOddsEnv"
   ]
  },
  {
   "attachments": {},
   "cell_type": "markdown",
   "metadata": {},
   "source": [
    "Trial #1: Bet fixed amounts alway on a home win\n",
    "\n",
    "Sources: \n",
    "\n",
    "https://colab.research.google.com/drive/1eqODB6TYWUaPq-SG1LD8kVcw1VMqEUyU#scrollTo=juMw2p58Jv8r\n",
    "\n",
    "https://oryjonay.github.io/Odds-Gym/"
   ]
  },
  {
   "cell_type": "code",
   "execution_count": 16,
   "metadata": {},
   "outputs": [
    {
     "name": "stdout",
     "output_type": "stream",
     "text": [
      "996.296379310345\n",
      "1012.2300000000001\n"
     ]
    }
   ],
   "source": [
    "#Test model and append total ending rewards \n",
    "eps_length = test_list[0].shape[0]\n",
    "num_traj = len(test_list)\n",
    "rewards = []\n",
    "\n",
    "for i in range(num_traj):\n",
    "    env = ThreeWaySoccerOddsEnv(test_list[i], starting_bank = 1000)\n",
    "    env.reset()\n",
    "    for l in range(eps_length):\n",
    "        #print(env.render())\n",
    "        obs, reward, done, info = env.step(1)\n",
    "        if done:\n",
    "            rewards.append(info['balance'])\n",
    "            break\n",
    "\n",
    "print(sum(rewards)/len(rewards))\n",
    "print(max(rewards))"
   ]
  },
  {
   "attachments": {},
   "cell_type": "markdown",
   "metadata": {},
   "source": [
    "Trial #2: Bet fixed amounts always randomly"
   ]
  },
  {
   "cell_type": "code",
   "execution_count": 17,
   "metadata": {},
   "outputs": [
    {
     "name": "stdout",
     "output_type": "stream",
     "text": [
      "7.971724137931034\n",
      "26.209999999999994\n"
     ]
    }
   ],
   "source": [
    "#Test model and append total ending rewards \n",
    "eps_length = test_list[0].shape[0]\n",
    "num_traj = len(test_list)\n",
    "rewards = []\n",
    "\n",
    "for i in range(num_traj):\n",
    "    env = ThreeWaySoccerOddsEnv(test_list[i])\n",
    "    env.reset()\n",
    "    for l in range(eps_length):\n",
    "        #print(env.render())\n",
    "        obs, reward, done, info = env.step(env.action_space.sample())\n",
    "        if done:\n",
    "            rewards.append(info['balance'])\n",
    "            break\n",
    "\n",
    "print(sum(rewards)/len(rewards))\n",
    "print(max(rewards))"
   ]
  },
  {
   "attachments": {},
   "cell_type": "markdown",
   "metadata": {},
   "source": [
    "Trial #3: Bet percentage amounts always randomly"
   ]
  },
  {
   "cell_type": "code",
   "execution_count": 18,
   "metadata": {},
   "outputs": [],
   "source": [
    "INITS = 1000"
   ]
  },
  {
   "cell_type": "code",
   "execution_count": 19,
   "metadata": {},
   "outputs": [
    {
     "name": "stderr",
     "output_type": "stream",
     "text": [
      "/Users/bryanchia/opt/anaconda3/envs/cs224r_project/lib/python3.7/site-packages/gym/logger.py:34: UserWarning: \u001b[33mWARN: Box bound precision lowered by casting to float32\u001b[0m\n",
      "  warnings.warn(colorize(\"%s: %s\" % (\"WARN\", msg % args), \"yellow\"))\n"
     ]
    },
    {
     "name": "stdout",
     "output_type": "stream",
     "text": [
      "775.3349406831412\n",
      "1601.3880114567135\n"
     ]
    }
   ],
   "source": [
    "#Test model and append total ending rewards \n",
    "eps_length = test_list[0].shape[0]\n",
    "num_traj = len(test_list)\n",
    "rewards = np.zeros((num_traj, INITS))\n",
    "\n",
    "for j in range(INITS):\n",
    "    for i in range(num_traj):\n",
    "        odds_df = test_list[i][[\"home\", \"draw\",\t\"away\"]].to_numpy()\n",
    "        results_df = test_list[i][\"result\"].tolist()\n",
    "        env = BasePercentageOddsEnv(odds_df, [\"home\", \"draw\", \"away\"], results_df, starting_bank=1000)\n",
    "        env.reset()\n",
    "        for l in range(eps_length):\n",
    "            #print(env.render())\n",
    "            action = env.action_space.sample()\n",
    "            obs, reward, done, info = env.step(action)\n",
    "            if done:\n",
    "                rewards[i][j] = info['balance']\n",
    "                break\n",
    "\n",
    "rewards = np.mean(rewards, axis = 1)\n",
    "print(sum(rewards)/rewards.shape[0])\n",
    "print(max(rewards))"
   ]
  },
  {
   "cell_type": "code",
   "execution_count": 20,
   "metadata": {},
   "outputs": [
    {
     "data": {
      "image/png": "[encoded data removed]",
      "text/plain": [
       "<Figure size 432x288 with 1 Axes>"
      ]
     },
     "metadata": {
      "needs_background": "light"
     },
     "output_type": "display_data"
    }
   ],
   "source": [
    "mean_return = round(np.mean(rewards), 2)\n",
    "NUM_SIMULATIONS = len(rewards)\n",
    "CONSTRAINT = 1\n",
    "plt.hist(rewards)\n",
    "plt.title(f'Multi-Outcome Random Percentage Betting \\n Ending Bankroll for {NUM_SIMULATIONS} Simulations \\n Mean: ${mean_return} \\n Constraint: {100*CONSTRAINT}%')\n",
    "plt.plot([1000, 1000], [0, NUM_SIMULATIONS], 'r--', label='starting balance')\n",
    "plt.plot([mean_return, mean_return], [0, NUM_SIMULATIONS], 'b--', label='mean ending return')\n",
    "plt.legend(loc='best')\n",
    "plt.xlabel('ending amount ($)')\n",
    "plt.ylabel('frequency')\n",
    "plt.show()"
   ]
  },
  {
   "attachments": {},
   "cell_type": "markdown",
   "metadata": {},
   "source": [
    "Trial #4: Fixed Baselines, train policy using PPO2\n",
    "\n",
    "Sources:\n",
    "\n",
    "https://colab.research.google.com/drive/1eqODB6TYWUaPq-SG1LD8kVcw1VMqEUyU#scrollTo=juMw2p58Jv8r \n",
    "\n",
    "https://colab.research.google.com/github/araffin/rl-tutorial-jnrr19/blob/master/3_multiprocessing.ipynb#scrollTo=AvO5BGrVv2Rk \n",
    "\n",
    "https://stable-baselines.readthedocs.io/en/master/guide/vec_envs.html"
   ]
  },
  {
   "cell_type": "code",
   "execution_count": 21,
   "metadata": {},
   "outputs": [
    {
     "name": "stdout",
     "output_type": "stream",
     "text": [
      "WARNING:tensorflow:\n",
      "The TensorFlow contrib module will not be included in TensorFlow 2.0.\n",
      "For more information, please see:\n",
      "  * https://github.com/tensorflow/community/blob/master/rfcs/20180907-contrib-sunset.md\n",
      "  * https://github.com/tensorflow/addons\n",
      "  * https://github.com/tensorflow/io (for I/O related ops)\n",
      "If you depend on functionality not listed there, please file an issue.\n",
      "\n"
     ]
    },
    {
     "name": "stderr",
     "output_type": "stream",
     "text": [
      "/Users/bryanchia/opt/anaconda3/envs/cs224r_project/lib/python3.7/site-packages/stable_baselines/__init__.py:33: UserWarning: stable-baselines is in maintenance mode, please use [Stable-Baselines3 (SB3)](https://github.com/DLR-RM/stable-baselines3) for an up-to-date version. You can find a [migration guide](https://stable-baselines3.readthedocs.io/en/master/guide/migration.html) in SB3 documentation.\n",
      "  \"stable-baselines is in maintenance mode, please use [Stable-Baselines3 (SB3)](https://github.com/DLR-RM/stable-baselines3) for an up-to-date version. You can find a [migration guide](https://stable-baselines3.readthedocs.io/en/master/guide/migration.html) in SB3 documentation.\"\n"
     ]
    }
   ],
   "source": [
    "from stable_baselines.common.policies import MlpPolicy\n",
    "from stable_baselines.common.vec_env import DummyVecEnv, SubprocVecEnv\n",
    "from stable_baselines import PPO2\n",
    "from stable_baselines.common import set_global_seeds"
   ]
  },
  {
   "cell_type": "code",
   "execution_count": 22,
   "metadata": {},
   "outputs": [],
   "source": [
    "def make_env(env_id, rank, seed=0):\n",
    "    \"\"\"\n",
    "    Utility function for multiprocessed env.\n",
    "    \n",
    "    :param env_id: (str) the environment ID\n",
    "    :param seed: (int) the inital seed for RNG\n",
    "    :param rank: (int) index of the subprocess\n",
    "    \"\"\"\n",
    "    def _init():\n",
    "        env = ThreeWaySoccerOddsEnv(train_list[env_id])\n",
    "        # Important: use a different seed for each environment\n",
    "        env.seed(seed + rank)\n",
    "        return env\n",
    "    set_global_seeds(seed)\n",
    "    return _init"
   ]
  },
  {
   "cell_type": "code",
   "execution_count": 23,
   "metadata": {},
   "outputs": [
    {
     "name": "stdout",
     "output_type": "stream",
     "text": [
      "WARNING:tensorflow:From /Users/bryanchia/opt/anaconda3/envs/cs224r_project/lib/python3.7/site-packages/stable_baselines/common/misc_util.py:26: The name tf.set_random_seed is deprecated. Please use tf.compat.v1.set_random_seed instead.\n",
      "\n",
      "WARNING:tensorflow:From /Users/bryanchia/opt/anaconda3/envs/cs224r_project/lib/python3.7/site-packages/stable_baselines/common/tf_util.py:191: The name tf.ConfigProto is deprecated. Please use tf.compat.v1.ConfigProto instead.\n",
      "\n",
      "WARNING:tensorflow:From /Users/bryanchia/opt/anaconda3/envs/cs224r_project/lib/python3.7/site-packages/stable_baselines/common/tf_util.py:200: The name tf.Session is deprecated. Please use tf.compat.v1.Session instead.\n",
      "\n",
      "WARNING:tensorflow:From /Users/bryanchia/opt/anaconda3/envs/cs224r_project/lib/python3.7/site-packages/stable_baselines/common/policies.py:116: The name tf.variable_scope is deprecated. Please use tf.compat.v1.variable_scope instead.\n",
      "\n",
      "WARNING:tensorflow:From /Users/bryanchia/opt/anaconda3/envs/cs224r_project/lib/python3.7/site-packages/stable_baselines/common/input.py:25: The name tf.placeholder is deprecated. Please use tf.compat.v1.placeholder instead.\n",
      "\n",
      "WARNING:tensorflow:From /Users/bryanchia/opt/anaconda3/envs/cs224r_project/lib/python3.7/site-packages/stable_baselines/common/policies.py:561: flatten (from tensorflow.python.layers.core) is deprecated and will be removed in a future version.\n",
      "Instructions for updating:\n",
      "Use keras.layers.flatten instead.\n",
      "WARNING:tensorflow:From /Users/bryanchia/opt/anaconda3/envs/cs224r_project/lib/python3.7/site-packages/tensorflow_core/python/layers/core.py:332: Layer.apply (from tensorflow.python.keras.engine.base_layer) is deprecated and will be removed in a future version.\n",
      "Instructions for updating:\n",
      "Please use `layer.__call__` method instead.\n",
      "WARNING:tensorflow:From /Users/bryanchia/opt/anaconda3/envs/cs224r_project/lib/python3.7/site-packages/stable_baselines/common/tf_layers.py:123: The name tf.get_variable is deprecated. Please use tf.compat.v1.get_variable instead.\n",
      "\n",
      "WARNING:tensorflow:From /Users/bryanchia/opt/anaconda3/envs/cs224r_project/lib/python3.7/site-packages/stable_baselines/common/distributions.py:326: The name tf.random_uniform is deprecated. Please use tf.random.uniform instead.\n",
      "\n",
      "WARNING:tensorflow:From /Users/bryanchia/opt/anaconda3/envs/cs224r_project/lib/python3.7/site-packages/stable_baselines/common/distributions.py:327: The name tf.log is deprecated. Please use tf.math.log instead.\n",
      "\n",
      "WARNING:tensorflow:From /Users/bryanchia/opt/anaconda3/envs/cs224r_project/lib/python3.7/site-packages/stable_baselines/ppo2/ppo2.py:190: The name tf.summary.scalar is deprecated. Please use tf.compat.v1.summary.scalar instead.\n",
      "\n",
      "WARNING:tensorflow:From /Users/bryanchia/opt/anaconda3/envs/cs224r_project/lib/python3.7/site-packages/stable_baselines/ppo2/ppo2.py:198: The name tf.trainable_variables is deprecated. Please use tf.compat.v1.trainable_variables instead.\n",
      "\n",
      "WARNING:tensorflow:From /Users/bryanchia/opt/anaconda3/envs/cs224r_project/lib/python3.7/site-packages/tensorflow_core/python/ops/math_grad.py:1424: where (from tensorflow.python.ops.array_ops) is deprecated and will be removed in a future version.\n",
      "Instructions for updating:\n",
      "Use tf.where in 2.0, which has the same broadcast rule as np.where\n",
      "WARNING:tensorflow:From /Users/bryanchia/opt/anaconda3/envs/cs224r_project/lib/python3.7/site-packages/stable_baselines/ppo2/ppo2.py:206: The name tf.train.AdamOptimizer is deprecated. Please use tf.compat.v1.train.AdamOptimizer instead.\n",
      "\n",
      "WARNING:tensorflow:From /Users/bryanchia/opt/anaconda3/envs/cs224r_project/lib/python3.7/site-packages/stable_baselines/ppo2/ppo2.py:240: The name tf.global_variables_initializer is deprecated. Please use tf.compat.v1.global_variables_initializer instead.\n",
      "\n",
      "WARNING:tensorflow:From /Users/bryanchia/opt/anaconda3/envs/cs224r_project/lib/python3.7/site-packages/stable_baselines/ppo2/ppo2.py:242: The name tf.summary.merge_all is deprecated. Please use tf.compat.v1.summary.merge_all instead.\n",
      "\n",
      "[[0.12498855 0.12528048 0.12514114 ... 0.12551267 0.1246426  0.12451547]\n",
      " [0.1250485  0.12558624 0.12505959 ... 0.12475454 0.12494054 0.12421407]\n",
      " [0.12502126 0.12515979 0.12527171 ... 0.12575656 0.12454916 0.12460402]\n",
      " ...\n",
      " [0.12574993 0.12469894 0.12595485 ... 0.12626122 0.12430038 0.12453921]\n",
      " [0.12537202 0.12488899 0.12575236 ... 0.12624873 0.12433683 0.12466716]\n",
      " [0.12502609 0.12513088 0.12531522 ... 0.12582915 0.12451967 0.12462526]]\n"
     ]
    },
    {
     "data": {
      "text/plain": [
       "<stable_baselines.ppo2.ppo2.PPO2 at 0x7feca05ddbd0>"
      ]
     },
     "execution_count": 23,
     "metadata": {},
     "output_type": "execute_result"
    }
   ],
   "source": [
    "#Train model and append total ending rewards \n",
    "eps_length = train_list[0].shape[0]\n",
    "num_traj = len(train_list)\n",
    "rewards = []\n",
    "\n",
    "learning_env = DummyVecEnv([make_env(i, i) for i in range(num_traj)])\n",
    "model = PPO2(MlpPolicy, learning_env, verbose=1)\n",
    "obs = learning_env.reset()\n",
    "print(model.action_probability(obs))\n",
    "model.learn(total_timesteps=3000)"
   ]
  },
  {
   "cell_type": "code",
   "execution_count": 24,
   "metadata": {},
   "outputs": [
    {
     "name": "stdout",
     "output_type": "stream",
     "text": [
      "6.9382758620689655\n",
      "22.47\n"
     ]
    }
   ],
   "source": [
    "#Test model and append total ending rewards \n",
    "eps_length = test_list[0].shape[0]\n",
    "num_traj = len(test_list)\n",
    "rewards = []\n",
    "\n",
    "for i in range(num_traj):\n",
    "    env = ThreeWaySoccerOddsEnv(test_list[i])\n",
    "    obs = env.reset()\n",
    "    for l in range(eps_length):\n",
    "        #print(env.render())\n",
    "        action, _states = model.predict(obs)\n",
    "        obs, reward, done, info = env.step(action)\n",
    "        if done:\n",
    "            rewards.append(info['balance'])\n",
    "            break\n",
    "\n",
    "print(sum(rewards)/len(rewards))\n",
    "print(max(rewards))"
   ]
  },
  {
   "attachments": {},
   "cell_type": "markdown",
   "metadata": {},
   "source": [
    "Trial #5: Percentage Baselines, train policy using PPO2"
   ]
  },
  {
   "cell_type": "code",
   "execution_count": 25,
   "metadata": {},
   "outputs": [],
   "source": [
    "def make_perc_env(env_id, rank, seed=0):\n",
    "    \"\"\"\n",
    "    Utility function for multiprocessed env.\n",
    "    \n",
    "    :param env_id: (str) the environment ID\n",
    "    :param seed: (int) the inital seed for RNG\n",
    "    :param rank: (int) index of the subprocess\n",
    "    \"\"\"\n",
    "    def _init():\n",
    "        odds_df = train_list[env_id][[\"home\", \"draw\",\t\"away\"]].to_numpy()\n",
    "        results_df = train_list[env_id][\"result\"].tolist()\n",
    "        env = BasePercentageOddsEnv(odds_df, [\"home\", \"draw\", \"away\"], results_df)\n",
    "        # Important: use a different seed for each environment\n",
    "        env.seed(seed + rank)\n",
    "        return env\n",
    "    set_global_seeds(seed)\n",
    "    return _init"
   ]
  },
  {
   "cell_type": "code",
   "execution_count": 26,
   "metadata": {},
   "outputs": [
    {
     "name": "stdout",
     "output_type": "stream",
     "text": [
      "WARNING:tensorflow:From /Users/bryanchia/opt/anaconda3/envs/cs224r_project/lib/python3.7/site-packages/stable_baselines/common/distributions.py:418: The name tf.random_normal is deprecated. Please use tf.random.normal instead.\n",
      "\n"
     ]
    },
    {
     "name": "stderr",
     "output_type": "stream",
     "text": [
      "/Users/bryanchia/opt/anaconda3/envs/cs224r_project/lib/python3.7/site-packages/gym/logger.py:34: UserWarning: \u001b[33mWARN: Box bound precision lowered by casting to float32\u001b[0m\n",
      "  warnings.warn(colorize(\"%s: %s\" % (\"WARN\", msg % args), \"yellow\"))\n"
     ]
    },
    {
     "data": {
      "text/plain": [
       "<stable_baselines.ppo2.ppo2.PPO2 at 0x7fec895b7d10>"
      ]
     },
     "execution_count": 26,
     "metadata": {},
     "output_type": "execute_result"
    }
   ],
   "source": [
    "#Train model and append total ending rewards \n",
    "eps_length = train_list[0].shape[0]\n",
    "num_traj = len(train_list)\n",
    "rewards = []\n",
    "\n",
    "learning_env = DummyVecEnv([make_perc_env(i, i) for i in range(num_traj)])\n",
    "model = PPO2(MlpPolicy, learning_env, verbose=1)\n",
    "obs = learning_env.reset()\n",
    "model.learn(total_timesteps=3000)"
   ]
  },
  {
   "cell_type": "code",
   "execution_count": 27,
   "metadata": {},
   "outputs": [
    {
     "name": "stdout",
     "output_type": "stream",
     "text": [
      "889.9686587737638\n",
      "1163.4046425824938\n"
     ]
    }
   ],
   "source": [
    "#Test model and append total ending rewards \n",
    "eps_length = test_list[0].shape[0]\n",
    "num_traj = len(test_list)\n",
    "rewards = np.zeros((num_traj, INITS))\n",
    "\n",
    "for j in range(INITS):\n",
    "    for i in range(num_traj):\n",
    "        odds_df = test_list[i][[\"home\", \"draw\",\t\"away\"]].to_numpy()\n",
    "        results_df = test_list[i][\"result\"].tolist()\n",
    "        env = BasePercentageOddsEnv(odds_df, [\"home\", \"draw\", \"away\"], results_df, starting_bank=1000)\n",
    "        obs = env.reset()\n",
    "        for l in range(eps_length):\n",
    "            #print(env.render())\n",
    "            action, _states = model.predict(obs)\n",
    "            obs, reward, done, info = env.step(action)\n",
    "            if done:\n",
    "                rewards[i][j] = info['balance']\n",
    "                break\n",
    "\n",
    "rewards = np.mean(rewards, axis = 1)\n",
    "print(sum(rewards)/rewards.shape[0])\n",
    "print(max(rewards))"
   ]
  },
  {
   "cell_type": "code",
   "execution_count": 28,
   "metadata": {},
   "outputs": [
    {
     "data": {
      "image/png": "[encoded data removed]",
      "text/plain": [
       "<Figure size 432x288 with 1 Axes>"
      ]
     },
     "metadata": {
      "needs_background": "light"
     },
     "output_type": "display_data"
    }
   ],
   "source": [
    "mean_return = round(np.mean(rewards), 2)\n",
    "NUM_SIMULATIONS = rewards.shape[0]\n",
    "CONSTRAINT = 1\n",
    "plt.hist(rewards)\n",
    "plt.title(f'Multi-Outcome PPO2 \\n Ending Bankroll for {NUM_SIMULATIONS} Simulations \\n Mean: ${mean_return} \\n Constraint: {100*CONSTRAINT}%')\n",
    "plt.plot([1000, 1000], [0, NUM_SIMULATIONS], 'r--', label='starting balance')\n",
    "plt.plot([mean_return, mean_return], [0, NUM_SIMULATIONS], 'b--', label='mean ending return')\n",
    "plt.legend(loc='best')\n",
    "plt.xlabel('ending amount ($)')\n",
    "plt.ylabel('frequency')\n",
    "plt.show()"
   ]
  },
  {
   "attachments": {},
   "cell_type": "markdown",
   "metadata": {},
   "source": [
    "Trial #6: Percentage Baselines, train policy using PPO2, adding a 10% constraint"
   ]
  },
  {
   "cell_type": "code",
   "execution_count": 29,
   "metadata": {},
   "outputs": [],
   "source": [
    "def make_perc_env(env_id, rank, seed=0):\n",
    "    \"\"\"\n",
    "    Utility function for multiprocessed env.\n",
    "    \n",
    "    :param env_id: (str) the environment ID\n",
    "    :param seed: (int) the inital seed for RNG\n",
    "    :param rank: (int) index of the subprocess\n",
    "    \"\"\"\n",
    "    def _init():\n",
    "        odds_df = train_list[env_id][[\"home\", \"draw\",\t\"away\"]].to_numpy()\n",
    "        results_df = train_list[env_id][\"result\"].tolist()\n",
    "        env = BasePercentageOddsEnv(odds_df, [\"home\", \"draw\", \"away\"], results_df)\n",
    "        # Important: use a different seed for each environment\n",
    "        env.seed(seed + rank)\n",
    "        return env\n",
    "    set_global_seeds(seed)\n",
    "    return _init"
   ]
  },
  {
   "cell_type": "code",
   "execution_count": 30,
   "metadata": {},
   "outputs": [
    {
     "data": {
      "text/plain": [
       "<stable_baselines.ppo2.ppo2.PPO2 at 0x7fec8a55db90>"
      ]
     },
     "execution_count": 30,
     "metadata": {},
     "output_type": "execute_result"
    }
   ],
   "source": [
    "#Train model and append total ending rewards \n",
    "eps_length = train_list[0].shape[0]\n",
    "num_traj = len(train_list)\n",
    "rewards = []\n",
    "\n",
    "learning_env = DummyVecEnv([make_perc_env(i, i) for i in range(num_traj)])\n",
    "model = PPO2(MlpPolicy, learning_env, verbose=1)\n",
    "obs = learning_env.reset()\n",
    "model.learn(total_timesteps=3000)"
   ]
  },
  {
   "cell_type": "code",
   "execution_count": null,
   "metadata": {},
   "outputs": [],
   "source": []
  }
 ],
 "metadata": {
  "kernelspec": {
   "display_name": "cs224r_project",
   "language": "python",
   "name": "python3"
  },
  "language_info": {
   "codemirror_mode": {
    "name": "ipython",
    "version": 3
   },
   "file_extension": ".py",
   "mimetype": "text/x-python",
   "name": "python",
   "nbconvert_exporter": "python",
   "pygments_lexer": "ipython3",
   "version": "3.7.16"
  },
  "orig_nbformat": 4
 },
 "nbformat": 4,
 "nbformat_minor": 2
}
